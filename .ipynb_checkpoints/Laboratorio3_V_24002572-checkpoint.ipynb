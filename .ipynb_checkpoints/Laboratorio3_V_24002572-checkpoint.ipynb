{
 "cells": [
  {
   "cell_type": "markdown",
   "id": "97d8a4c9-0e9b-47ea-8898-4cf452345276",
   "metadata": {},
   "source": [
    "# Laboratorio #3"
   ]
  },
  {
   "cell_type": "markdown",
   "id": "d1060e82-331f-4fcb-a307-641c07add854",
   "metadata": {
    "tags": []
   },
   "source": [
    "### Parte 1"
   ]
  },
  {
   "cell_type": "markdown",
   "id": "7b06499a-6948-4ccc-8f20-6c03453ce3dc",
   "metadata": {
    "jp-MarkdownHeadingCollapsed": true,
    "tags": []
   },
   "source": [
    "#### 1) ¿Cuál es el tamaño en bytes de un array de 1000 elementos de tipo booleano?"
   ]
  },
  {
   "cell_type": "code",
   "execution_count": null,
   "id": "19427f05-94f9-4ec7-a02e-fcc0fbdbe8a9",
   "metadata": {
    "tags": []
   },
   "outputs": [],
   "source": [
    "import numpy as np"
   ]
  },
  {
   "cell_type": "code",
   "execution_count": null,
   "id": "281e1b46-b384-4f26-a801-8249845d9e52",
   "metadata": {
    "tags": []
   },
   "outputs": [],
   "source": [
    "boolArray = np.random.choice([True, False], size=1000)"
   ]
  },
  {
   "cell_type": "code",
   "execution_count": null,
   "id": "262dacf4-a61d-49d5-8206-217945516677",
   "metadata": {
    "tags": []
   },
   "outputs": [],
   "source": [
    "numBytes = boolArray.nbytes\n",
    "print(\"El tamaño en bytes del array es:\", numBytes)"
   ]
  },
  {
   "cell_type": "markdown",
   "id": "118cd976-d746-4ca5-8a01-3ebb1f630a59",
   "metadata": {
    "jp-MarkdownHeadingCollapsed": true,
    "tags": []
   },
   "source": [
    "#### 2) Cree un array cuyos elementos sean los enteros pares en [1,100] y en orden decreciente. Muestre los 10 últimos por pantalla."
   ]
  },
  {
   "cell_type": "code",
   "execution_count": null,
   "id": "7e864bb3-a1d8-4000-9f55-e0da51ae5ea3",
   "metadata": {
    "tags": []
   },
   "outputs": [],
   "source": [
    "arrayEnterosPares = np.arange(100, 1, -2)"
   ]
  },
  {
   "cell_type": "code",
   "execution_count": null,
   "id": "59383c87-a515-40be-a523-b08c7923943b",
   "metadata": {
    "tags": []
   },
   "outputs": [],
   "source": [
    "ultimos10Elementos = arrayEnterosPares[-10:]\n",
    "print(\"Los ultimo 10 elementos son:\", ultimos10Elementos)"
   ]
  },
  {
   "cell_type": "markdown",
   "id": "c26717ee-0b65-49da-a87c-957f9f3b9047",
   "metadata": {
    "jp-MarkdownHeadingCollapsed": true,
    "tags": []
   },
   "source": [
    "#### 3. Dado el array\n",
    "\n",
    "#### 2 4 5 6\n",
    "#### 0 3 7 4\n",
    "#### 8 8 5 2\n",
    "#### 1 5 6 1"
   ]
  },
  {
   "cell_type": "code",
   "execution_count": null,
   "id": "8ab0e51d-8cbc-4fe3-9d43-2550b442ed09",
   "metadata": {
    "tags": []
   },
   "outputs": [],
   "source": [
    "npArray = np.array([[2, 4, 5, 6],\n",
    "                   [0, 3, 7, 4],\n",
    "                   [8, 8, 5, 2],\n",
    "                   [1, 5, 6, 1]])"
   ]
  },
  {
   "cell_type": "markdown",
   "id": "02d4abcb-9dc7-44e1-9ff1-268103bd6c0c",
   "metadata": {
    "jp-MarkdownHeadingCollapsed": true,
    "tags": []
   },
   "source": [
    "#### Seleccione con una instrucción el subarray de elementos \n",
    "#### 0 3 7 4"
   ]
  },
  {
   "cell_type": "code",
   "execution_count": null,
   "id": "018006f1-3599-48ae-ae35-4ebfe491ae2b",
   "metadata": {
    "tags": []
   },
   "outputs": [],
   "source": [
    "subarray = npArray[1, 0:4]\n",
    "print(\"Subarray:\", subarray)"
   ]
  },
  {
   "cell_type": "markdown",
   "id": "e452be52-7860-4693-82b4-2580db1007c4",
   "metadata": {
    "jp-MarkdownHeadingCollapsed": true,
    "tags": []
   },
   "source": [
    "#### Después, seleccione el subarray de elementos"
   ]
  },
  {
   "cell_type": "code",
   "execution_count": null,
   "id": "66281cab-e39c-4a76-8583-60d5da5c042a",
   "metadata": {
    "tags": []
   },
   "outputs": [],
   "source": [
    "subarray_1 = npArray[[0, 2], [0, 2]]\n",
    "subarray_2 = npArray[[2, 2], [0, 2]]\n",
    "print(\"Subarray 1:\", subarray_1)\n",
    "print(\"Subarray 2:\", subarray_2)"
   ]
  },
  {
   "cell_type": "markdown",
   "id": "4ed30385-eba7-4957-890e-328a318b9895",
   "metadata": {
    "jp-MarkdownHeadingCollapsed": true,
    "tags": []
   },
   "source": [
    "#### 4. Dados los arrays a = [1, 4, 2, 7] y b = [1, 3, 2, 9], obtenga la media aritmética de la diferencia (a-b)."
   ]
  },
  {
   "cell_type": "code",
   "execution_count": null,
   "id": "b688f789-afcc-4d67-8f8a-f52162c2e5e7",
   "metadata": {
    "tags": []
   },
   "outputs": [],
   "source": [
    "a = np.array([1, 4, 2, 7])\n",
    "b = np.array([1, 3, 2, 9])\n",
    "\n",
    "# Calcular la diferencia entre los arrays\n",
    "diferencia = a - b"
   ]
  },
  {
   "cell_type": "code",
   "execution_count": null,
   "id": "2473c457-36ed-4154-a7eb-960c77354487",
   "metadata": {
    "tags": []
   },
   "outputs": [],
   "source": [
    "media = np.mean(diferencia)\n",
    "print(\"La media de a-b =\", media)"
   ]
  },
  {
   "cell_type": "markdown",
   "id": "2ffedb91-cc05-4b42-a649-a851b3e90f34",
   "metadata": {
    "jp-MarkdownHeadingCollapsed": true,
    "tags": []
   },
   "source": [
    "#### 5) Tengo valores de cordenadas (x, y) en las columnas del array\n",
    "#### 1.33 4.5\n",
    "#### 30.0 10.7\n",
    "#### 70.2 0.5\n",
    "#### Agregue a este array las coordenadas (37.1, -3.6). Muestre en pantalla las dimensiones del nuevo array."
   ]
  },
  {
   "cell_type": "code",
   "execution_count": null,
   "id": "0a2fe4b9-62a3-4048-a5f6-af85292f884e",
   "metadata": {
    "tags": []
   },
   "outputs": [],
   "source": [
    "arrayInicial = np.array([[1.33, 4.5],\n",
    "                         [30.0, 10.7],\n",
    "                         [70.2, 0.5]])\n",
    "\n",
    "nuevoElemento = np.array([[37.1, -3.6]])"
   ]
  },
  {
   "cell_type": "code",
   "execution_count": null,
   "id": "6bfcb309-60cb-48f8-9674-20c83ab806e5",
   "metadata": {
    "tags": []
   },
   "outputs": [],
   "source": [
    "# Concatenar las coordenadas nuevas al array original\n",
    "arrayFinal = np.vstack([arrayInicial, nuevoElemento])\n",
    "\n",
    "# Mostrar las dimensiones del nuevo array\n",
    "dim = arrayFinal.shape\n",
    "\n",
    "print(\"Dimension del array final:\", dim)"
   ]
  },
  {
   "cell_type": "markdown",
   "id": "7da7dc0f-7198-4eb1-a805-b5c8b0c5d0fb",
   "metadata": {
    "tags": []
   },
   "source": [
    "#### 6) Copie el array del ejercicio anterior. Traspóngalo. Agregue ahora dos nuevos pares de coordenadas: (10.8, 3.0) y (35.8, 12.0)."
   ]
  },
  {
   "cell_type": "code",
   "execution_count": null,
   "id": "6d62ff66-b3ac-4770-b1c2-8fcab0c8f2a3",
   "metadata": {
    "tags": []
   },
   "outputs": [],
   "source": [
    "# trasponer el array\n",
    "nuevoArray = np.transpose(arrayFinal)\n",
    "nuevosElementos = np.array([[10.8, 3.0],\n",
    "                            [35.8, 12.0]])"
   ]
  },
  {
   "cell_type": "code",
   "execution_count": null,
   "id": "6aed7a47-3f46-4066-a758-80b227d54b09",
   "metadata": {
    "tags": []
   },
   "outputs": [],
   "source": [
    "# agregar las nuevas cordenadas\n",
    "result = np.hstack([nuevoArray, nuevosElementos])\n",
    "\n",
    "print(\"Nuevo array traspuesto\", result)"
   ]
  },
  {
   "cell_type": "markdown",
   "id": "86eb189f-0aa8-4927-8004-1f965584bc1f",
   "metadata": {},
   "source": [
    "### Parte 2"
   ]
  },
  {
   "cell_type": "code",
   "execution_count": 2,
   "id": "2c17ccb3-94f9-429a-ab36-e105ca999daf",
   "metadata": {
    "tags": []
   },
   "outputs": [],
   "source": [
    "import numpy as np\n",
    "import pandas as pd\n",
    "import matplotlib.pyplot as plt\n",
    "import math"
   ]
  },
  {
   "cell_type": "code",
   "execution_count": 256,
   "id": "a4bd1415-fd16-4229-9dfe-f8a4f7dd5cd8",
   "metadata": {
    "tags": []
   },
   "outputs": [
    {
     "data": {
      "text/html": [
       "<div>\n",
       "<style scoped>\n",
       "    .dataframe tbody tr th:only-of-type {\n",
       "        vertical-align: middle;\n",
       "    }\n",
       "\n",
       "    .dataframe tbody tr th {\n",
       "        vertical-align: top;\n",
       "    }\n",
       "\n",
       "    .dataframe thead th {\n",
       "        text-align: right;\n",
       "    }\n",
       "</style>\n",
       "<table border=\"1\" class=\"dataframe\">\n",
       "  <thead>\n",
       "    <tr style=\"text-align: right;\">\n",
       "      <th></th>\n",
       "      <th>FID</th>\n",
       "      <th>OBJECTID</th>\n",
       "      <th>Texto</th>\n",
       "      <th>Poblacion</th>\n",
       "      <th>CodMun</th>\n",
       "      <th>Municipio</th>\n",
       "      <th>CodProvin</th>\n",
       "      <th>Provincia</th>\n",
       "      <th>X</th>\n",
       "      <th>Y</th>\n",
       "    </tr>\n",
       "  </thead>\n",
       "  <tbody>\n",
       "    <tr>\n",
       "      <th>0</th>\n",
       "      <td>0</td>\n",
       "      <td>1</td>\n",
       "      <td>Agüimes</td>\n",
       "      <td>29431.0</td>\n",
       "      <td>35002</td>\n",
       "      <td>Agüimes</td>\n",
       "      <td>35</td>\n",
       "      <td>Las Palmas</td>\n",
       "      <td>-15.446012</td>\n",
       "      <td>27.900542</td>\n",
       "    </tr>\n",
       "    <tr>\n",
       "      <th>1</th>\n",
       "      <td>1</td>\n",
       "      <td>2</td>\n",
       "      <td>Antigua</td>\n",
       "      <td>10458.0</td>\n",
       "      <td>35003</td>\n",
       "      <td>Antigua</td>\n",
       "      <td>35</td>\n",
       "      <td>Las Palmas</td>\n",
       "      <td>-14.013301</td>\n",
       "      <td>28.418966</td>\n",
       "    </tr>\n",
       "    <tr>\n",
       "      <th>2</th>\n",
       "      <td>2</td>\n",
       "      <td>3</td>\n",
       "      <td>Arrecife</td>\n",
       "      <td>58156.0</td>\n",
       "      <td>35004</td>\n",
       "      <td>Arrecife</td>\n",
       "      <td>35</td>\n",
       "      <td>Las Palmas</td>\n",
       "      <td>-13.551451</td>\n",
       "      <td>28.960649</td>\n",
       "    </tr>\n",
       "    <tr>\n",
       "      <th>3</th>\n",
       "      <td>3</td>\n",
       "      <td>4</td>\n",
       "      <td>Arucas</td>\n",
       "      <td>36745.0</td>\n",
       "      <td>35006</td>\n",
       "      <td>Arucas</td>\n",
       "      <td>35</td>\n",
       "      <td>Las Palmas</td>\n",
       "      <td>-15.521512</td>\n",
       "      <td>28.117496</td>\n",
       "    </tr>\n",
       "    <tr>\n",
       "      <th>4</th>\n",
       "      <td>4</td>\n",
       "      <td>5</td>\n",
       "      <td>Gáldar</td>\n",
       "      <td>24473.0</td>\n",
       "      <td>35009</td>\n",
       "      <td>Gáldar</td>\n",
       "      <td>35</td>\n",
       "      <td>Las Palmas</td>\n",
       "      <td>-15.654111</td>\n",
       "      <td>28.143873</td>\n",
       "    </tr>\n",
       "  </tbody>\n",
       "</table>\n",
       "</div>"
      ],
      "text/plain": [
       "   FID  OBJECTID     Texto  Poblacion  CodMun Municipio  CodProvin  \\\n",
       "0    0         1   Agüimes    29431.0   35002   Agüimes         35   \n",
       "1    1         2   Antigua    10458.0   35003   Antigua         35   \n",
       "2    2         3  Arrecife    58156.0   35004  Arrecife         35   \n",
       "3    3         4    Arucas    36745.0   35006    Arucas         35   \n",
       "4    4         5    Gáldar    24473.0   35009    Gáldar         35   \n",
       "\n",
       "    Provincia          X          Y  \n",
       "0  Las Palmas -15.446012  27.900542  \n",
       "1  Las Palmas -14.013301  28.418966  \n",
       "2  Las Palmas -13.551451  28.960649  \n",
       "3  Las Palmas -15.521512  28.117496  \n",
       "4  Las Palmas -15.654111  28.143873  "
      ]
     },
     "execution_count": 256,
     "metadata": {},
     "output_type": "execute_result"
    }
   ],
   "source": [
    "dataset = pd.read_csv(\"NucleosPoblacion.csv\")\n",
    "dataset.head()"
   ]
  },
  {
   "cell_type": "markdown",
   "id": "397bf4c7-676e-47b1-8466-c31be8d15144",
   "metadata": {},
   "source": [
    "#### 1) ¿Cuántos Municipios tienen más de 100000 habitantes?"
   ]
  },
  {
   "cell_type": "code",
   "execution_count": null,
   "id": "153b4fce-30e4-44a4-bd11-df6b52308afd",
   "metadata": {
    "tags": []
   },
   "outputs": [],
   "source": [
    "dataset[dataset['Poblacion'] > 100000] # Municipios con más de 100000 habitantes"
   ]
  },
  {
   "cell_type": "code",
   "execution_count": null,
   "id": "53cbef86-b1d4-43b5-ab78-7763225ca5d1",
   "metadata": {
    "tags": []
   },
   "outputs": [],
   "source": [
    "len(dataset[dataset['Poblacion'] > 100000]) # Número de municipios que cumplen la condición"
   ]
  },
  {
   "cell_type": "markdown",
   "id": "1a72e181-ff0f-498a-a9bb-21715d226189",
   "metadata": {
    "tags": []
   },
   "source": [
    "#### 2) Realice una gráfica de barras sobre la polbación de cada ciudad, ordenela de menor a mayo y responda"
   ]
  },
  {
   "cell_type": "code",
   "execution_count": null,
   "id": "349d079d-05bb-433f-8c8c-f31dbf72e92a",
   "metadata": {
    "tags": []
   },
   "outputs": [],
   "source": [
    "# Ordenar los datos por población de mayor a menor\n",
    "datasetOrdenado = dataset.sort_values(by='Poblacion', ascending=False)\n",
    "\n",
    "plt.figure(figsize=(10, 6)) # Le de un tamaño a la grafica, funciona mejor si se coloca al inicio, que al final.\n",
    "\n",
    "# Se crea la grafica, solo que se toman provincias (como ciudades) en vez de municipios, debido a que estos ultimos son demasiados para mostrar en pantalla\n",
    "plt.bar(datasetOrdenado['Provincia'], datasetOrdenado['Poblacion'], color='green')\n",
    "plt.xlabel('Provincia') # Etiqueta del eje X\n",
    "plt.ylabel('Población') # Etiqueta del eje Y\n",
    "plt.title('Grafica de población') # Título de la grafica\n",
    "plt.xticks(rotation=90) # Evita que se muestren una sobre otra, las etiquetas de cada barra.\n",
    "plt.tight_layout() # Para que se ajuste a la pantalla\n",
    "\n",
    "plt.show()"
   ]
  },
  {
   "cell_type": "markdown",
   "id": "2ca01ac9-0430-42cd-a3b5-5ef1e2270fbd",
   "metadata": {
    "tags": []
   },
   "source": [
    "##### 1. Segun la grafica, la segunda ciudad (provincia) con más población es Barcelona."
   ]
  },
  {
   "cell_type": "markdown",
   "id": "a8cbcc13-b42d-41e8-a073-f7415e52b6d1",
   "metadata": {
    "tags": []
   },
   "source": [
    "##### 2. Segun la grafica, granada ocupa la posición 17."
   ]
  },
  {
   "cell_type": "markdown",
   "id": "7ac80836-ad65-4377-9f99-17a2fc231e0f",
   "metadata": {},
   "source": [
    "#### 3) ¿Cuántos municipios de Extremadura tienen más de 5000 habitantes?"
   ]
  },
  {
   "cell_type": "code",
   "execution_count": null,
   "id": "704150ff-48ad-447a-88ca-f8527ee3a44f",
   "metadata": {
    "tags": []
   },
   "outputs": [],
   "source": [
    "resultado = dataset[dataset['Provincia'] == 'Extremadura'].value_counts()\n",
    "print(\"Para Extremadura existen:\", resultado.values)"
   ]
  },
  {
   "cell_type": "markdown",
   "id": "a5393ca7-1b33-48f0-b99e-a0e25f461489",
   "metadata": {
    "tags": []
   },
   "source": [
    "#### 4) ¿Cuál es el municipio situado más al Norte? (Usar el valor de la coordenada \"Y\" que representa la latitud en grados). Proporcione también la provincia a la que pertenece y su población."
   ]
  },
  {
   "cell_type": "code",
   "execution_count": null,
   "id": "300c8f50-883a-4eba-a3bc-4431e2b10b53",
   "metadata": {
    "tags": []
   },
   "outputs": [],
   "source": [
    "municipio_norte = dataset[dataset['Y'] == dataset['Y'].max()][['Municipio', 'Provincia', 'Poblacion']]\n",
    "municipio_norte"
   ]
  },
  {
   "cell_type": "markdown",
   "id": "214f347f-4e0f-418b-8016-9765512bc2b5",
   "metadata": {},
   "source": [
    "#### 5) Obtenga la media, mediana, desviación estándar, valor máximo y valor mínimo de la población de los municipios de la provincia de Granada."
   ]
  },
  {
   "cell_type": "code",
   "execution_count": null,
   "id": "a77e9a73-c81c-4f95-b289-dd1205744c88",
   "metadata": {
    "tags": []
   },
   "outputs": [],
   "source": [
    "granada = dataset[dataset['Provincia'] == 'Granada']\n",
    "\n",
    "# Se calcula la media, mediana, deviación, máximo y mínimo\n",
    "media_poblacion_granda = granada['Poblacion'].mean()\n",
    "mediana_poblacion_granada = granada['Poblacion'].median()\n",
    "des_poblacion_granada = granada['Poblacion'].std()\n",
    "max_poblacion_granada = granada['Poblacion'].max()\n",
    "min_poblacion_granada = granada['Poblacion'].min()\n",
    "\n",
    "print(\"Datos de la población de la pronvincia de Granada\")\n",
    "print(\"Media:\", media_poblacion_granda)\n",
    "print(\"Mediana:\", mediana_poblacion_granada)\n",
    "print(\"Desviación estándar:\", des_poblacion_granada)\n",
    "print(\"Valor máximo:\", max_poblacion_granada)\n",
    "print(\"Valor mínimo:\", min_poblacion_granada)"
   ]
  },
  {
   "cell_type": "markdown",
   "id": "fab20ea7-e714-4202-abc6-6d83fb86d31f",
   "metadata": {
    "tags": []
   },
   "source": [
    "#### 6) Realice un histograma con la población de los Municipios para cada una de las provincias."
   ]
  },
  {
   "cell_type": "code",
   "execution_count": null,
   "id": "ff48206e-8c18-49f0-a0ff-17d92783044a",
   "metadata": {
    "tags": []
   },
   "outputs": [],
   "source": [
    "dsProvincias = dataset['Provincia'].unique()\n",
    "\n",
    "# Configurar los subplots\n",
    "filas = (len(dsProvincias) + 1) // 2\n",
    "columnas = 2\n",
    "fig, axs = plt.subplots(filas, columnas, figsize=(12, 8))\n",
    "\n",
    "# Crea un histograma por cada provincia\n",
    "for i, provincia in enumerate(dsProvincias):\n",
    "\n",
    "    datos_provincia = dataset[dataset['Provincia'] == provincia]['Poblacion']\n",
    "    # Seleccionar el subplot correspondiente\n",
    "\n",
    "    if filas > 1:\n",
    "        ax = axs[i // columnas, i % columnas]\n",
    "    else:\n",
    "        ax = axs[i % columnas]\n",
    "    \n",
    "    ax.hist(datos_provincia, bins=20, color='skyblue', edgecolor='black')\n",
    "    ax.set_title(provincia)\n",
    "    ax.set_xlabel('Población')\n",
    "    ax.set_ylabel('Frecuencia')\n",
    "    \n",
    "plt.subplots_adjust(hspace=0, wspace=0.2)\n",
    "#plt.tight_layout()\n",
    "plt.show()"
   ]
  },
  {
   "cell_type": "markdown",
   "id": "4186667e-4bef-4b71-9c9d-ebe3a80281a4",
   "metadata": {
    "tags": []
   },
   "source": [
    "#### 7) Seleccione al azar cincuenta municipios diferentes de entre los diponibles en el archivo. Asegúrese de que no se repitan. ¿Luego calcule el promedio de la población y la desviación estándar de esto 50 municipios?."
   ]
  },
  {
   "cell_type": "code",
   "execution_count": null,
   "id": "92a67cdd-9af9-4002-9595-71ca61ed8b66",
   "metadata": {
    "tags": []
   },
   "outputs": [],
   "source": [
    "# Se utiliza sample debido a que este metodo devuelve la cantidad aleatoria de municipios\n",
    "municipiosSeleccionados = dataset['Municipio'].sample(n=50, replace=False).unique()\n",
    "\n",
    "municipiosFiltrados = dataset[dataset['Municipio'].isin(municipiosSeleccionados)]\n",
    "\n",
    "media = municipiosFiltrados['Poblacion'].mean()\n",
    "desviacion = municipiosFiltrados['Poblacion'].std()\n",
    "\n",
    "print(\"Promedio:\", media)\n",
    "print(\"Desviación estándar:\", desviacion)"
   ]
  },
  {
   "cell_type": "markdown",
   "id": "1a7c5984-c62d-4fb1-a14a-2a2cbb4a9451",
   "metadata": {},
   "source": [
    "#### 8) Determine los nombres de los Municipios más cercano y más lejano a Madrid. Para ello debe calcular la distancia en todos ellos y Madrid. No considere a Madrid en el análisis ya que la distancia sería cero."
   ]
  },
  {
   "cell_type": "code",
   "execution_count": 3,
   "id": "8efcd63c-430f-4ddf-88e2-b7fe83674eaf",
   "metadata": {
    "tags": []
   },
   "outputs": [
    {
     "name": "stdout",
     "output_type": "stream",
     "text": [
      "Municipios Cercanos\n",
      "                      Municipio  DistanciaMadrid\n",
      "783          Pozuelo de Alarcón         9.003008\n",
      "780                      Getafe        10.571583\n",
      "781                     Leganés        10.706904\n",
      "354                     Leganés        11.722346\n",
      "365          Pozuelo de Alarcón        12.638904\n",
      "351                      Getafe        12.812469\n",
      "347                     Coslada        15.405150\n",
      "337                    Alcorcón        15.632332\n",
      "336                  Alcobendas        15.925443\n",
      "372  San Sebastián de los Reyes        16.820285\n",
      "-------------------------\n",
      "Municipios Lejanos\n",
      "                  Municipio  DistanciaMadrid\n",
      "29    Los Llanos de Aridane      2033.838278\n",
      "35   Santa Cruz de la Palma      2019.489311\n",
      "765                   Arona      1978.697354\n",
      "764                   Adeje      1978.642828\n",
      "21                    Adeje      1974.890239\n",
      "25            Guía de Isora      1972.349755\n",
      "22                    Arona      1972.344574\n",
      "37       Santiago del Teide      1968.912842\n",
      "34      San Miguel de Abona      1967.189934\n",
      "766     Granadilla de Abona      1964.701417\n"
     ]
    }
   ],
   "source": [
    "dataset = pd.read_csv(\"NucleosPoblacion.csv\")\n",
    "    \n",
    "dataset['DistanciaMadrid'] = 0\n",
    "\n",
    "madrid = dataset[dataset['Municipio'] == 'Madrid']\n",
    "\n",
    "indexMadrid = madrid.first_valid_index()\n",
    "\n",
    "ubicacionMadrid = {\"latitud\": madrid.loc[indexMadrid, \"X\"], \"longitud\": madrid.loc[indexMadrid, \"Y\"]}\n",
    "\n",
    "for i in range(dataset.shape[0]):\n",
    "    \n",
    "    if i != indexMadrid:\n",
    "        otraCiudad = {\"latitud\": dataset.loc[i, \"X\"], \"longitud\": dataset.loc[i, \"Y\"]}    \n",
    "\n",
    "        diferencia_latitud = otraCiudad[\"latitud\"] - ubicacionMadrid[\"latitud\"]\n",
    "        diferencia_longitud = otraCiudad[\"longitud\"] - ubicacionMadrid[\"longitud\"]\n",
    "\n",
    "        radio_tierra = 6371 \n",
    "\n",
    "        diferencia_latitud_radianes = diferencia_latitud * (math.pi / 180)\n",
    "        diferencia_longitud_radianes = diferencia_longitud * (math.pi / 180)\n",
    "\n",
    "        haversine = math.sin(diferencia_latitud_radianes / 2) ** 2 + math.cos(otraCiudad[\"latitud\"] * (math.pi / 180)) * math.cos(ubicacionMadrid[\"latitud\"] * (math.pi / 180)) * math.sin(diferencia_longitud_radianes / 2) ** 2\n",
    "\n",
    "        distancia = 2 * radio_tierra * math.asin(math.sqrt(haversine))\n",
    "\n",
    "        dataset.loc[i, \"DistanciaMadrid\"] = distancia\n",
    "    \n",
    "\n",
    "municipiosCercanos = dataset[dataset[\"Municipio\"] != \"Madrid\"].sort_values(by=\"DistanciaMadrid\", ascending=True)[[\"Municipio\", \"DistanciaMadrid\"]].head(10)\n",
    "\n",
    "print(\"Municipios Cercanos\")\n",
    "print(municipiosCercanos)\n",
    "\n",
    "print(\"-------------------------\")\n",
    "print(\"Municipios Lejanos\")\n",
    "municipiosLejanos = dataset.sort_values(by=\"DistanciaMadrid\", ascending=False)[[\"Municipio\", \"DistanciaMadrid\"]].head(10)\n",
    "print(municipiosLejanos)"
   ]
  }
 ],
 "metadata": {
  "kernelspec": {
   "display_name": "Python 3 (ipykernel)",
   "language": "python",
   "name": "python3"
  },
  "language_info": {
   "codemirror_mode": {
    "name": "ipython",
    "version": 3
   },
   "file_extension": ".py",
   "mimetype": "text/x-python",
   "name": "python",
   "nbconvert_exporter": "python",
   "pygments_lexer": "ipython3",
   "version": "3.11.5"
  }
 },
 "nbformat": 4,
 "nbformat_minor": 5
}
